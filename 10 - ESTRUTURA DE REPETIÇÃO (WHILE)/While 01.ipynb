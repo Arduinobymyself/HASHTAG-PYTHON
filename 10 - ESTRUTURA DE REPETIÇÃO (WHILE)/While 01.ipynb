{
 "cells": [
  {
   "cell_type": "markdown",
   "metadata": {},
   "source": [
    "# Estrutura while:\n",
    "\n",
    "### Funcionamento:\n",
    "\n",
    "Usamos o while quando queremos repetir um código de forma indeterminada até uma condição se tornar verdadeira/falsa.\n",
    "\n",
    "A lógica é: enquanto a condição for verdadeira, o while executa o código. Assim que ela terminar de ser verdadeira, o código \"sai\" do while."
   ]
  },
  {
   "cell_type": "raw",
   "metadata": {},
   "source": [
    "while condicao:\n",
    "    repete esse código"
   ]
  },
  {
   "cell_type": "markdown",
   "metadata": {},
   "source": [
    "- Exemplo: Quando criamos automações na internet\n",
    "- Exemplo2: Crie um programa que funcione como o registro de vendas de uma empresa.\n",
    "\n",
    "Nele, a pessoa deve inserir o nome do produto e o produto deve ser adicionado na lista de venda. Enquanto o usuário não encerrar o programa, significa que ele está registrando novos produtos, então o programa deve permitir e entrada de quantos produtos o usuário quiser."
   ]
  },
  {
   "cell_type": "code",
   "execution_count": 3,
   "metadata": {},
   "outputs": [
    {
     "name": "stdout",
     "output_type": "stream",
     "text": [
      "Registre um produto. \"ENTER\" Para cancelar.coca\n",
      "Registre um produto. \"ENTER\" Para cancelar.sprite\n",
      "Registre um produto. \"ENTER\" Para cancelar.fanta\n",
      "Registre um produto. \"ENTER\" Para cancelar.pepsi\n",
      "Registre um produto. \"ENTER\" Para cancelar.garana\n",
      "Registre um produto. \"ENTER\" Para cancelar.soda\n",
      "Registre um produto. \"ENTER\" Para cancelar.\n",
      "\n",
      "Registro Finalizado. As vendas cadastradas foram: ['coca', 'sprite', 'fanta', 'pepsi', 'garana', 'soda']\n"
     ]
    }
   ],
   "source": [
    "venda = input('Registre um produto. \"ENTER\" Para cancelar.')\n",
    "vendas = []\n",
    "#crie aqui o programa\n",
    "while venda != '':\n",
    "    vendas.append(venda)\n",
    "    venda = input('Registre um produto. \"ENTER\" Para cancelar.')\n",
    "print()\n",
    "print(f'Registro Finalizado. As vendas cadastradas foram: {vendas}')"
   ]
  }
 ],
 "metadata": {
  "kernelspec": {
   "display_name": "Python 3 (ipykernel)",
   "language": "python",
   "name": "python3"
  },
  "language_info": {
   "codemirror_mode": {
    "name": "ipython",
    "version": 3
   },
   "file_extension": ".py",
   "mimetype": "text/x-python",
   "name": "python",
   "nbconvert_exporter": "python",
   "pygments_lexer": "ipython3",
   "version": "3.9.7"
  }
 },
 "nbformat": 4,
 "nbformat_minor": 4
}
