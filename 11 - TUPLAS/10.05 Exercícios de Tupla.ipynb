{
 "cells": [
  {
   "cell_type": "markdown",
   "metadata": {},
   "source": [
    "# Exercícios\n",
    "\n",
    "São exercícios bem parecidos com os que fizemos com listas. Mas na tupla, podemos não só trabalhar com índices, mas fazer o \"unpacking\" das tuplas, o que pode facilitar nossos códigos.\n",
    "\n",
    "## 1. Análise de Vendas\n",
    "\n",
    "Nesse exercício vamos fazer uma \"análise simples\" de atingimento de Meta.\n",
    "\n",
    "Temos uma lista com os vendedores e os valores de vendas e queremos identificar (printar) quais os vendedores que bateram a meta e qual foi o valor que eles venderam."
   ]
  },
  {
   "cell_type": "code",
   "execution_count": 2,
   "metadata": {},
   "outputs": [
    {
     "name": "stdout",
     "output_type": "stream",
     "text": [
      "João bateu a meta com R$15000.00 em vendas.\n",
      "Julia bateu a meta com R$27000.00 em vendas.\n",
      "Ana bateu a meta com R$10300.00 em vendas.\n"
     ]
    }
   ],
   "source": [
    "meta = 10000\n",
    "vendas = [\n",
    "    ('João', 15000),\n",
    "    ('Julia', 27000),\n",
    "    ('Marcus', 9900),\n",
    "    ('Maria', 3750),\n",
    "    ('Ana', 10300),\n",
    "    ('Alon', 7870),\n",
    "]\n",
    "for item in vendas:\n",
    "    nome, venda = item\n",
    "    if venda > meta:\n",
    "        print(f'{nome} bateu a meta com R${venda:.2f} em vendas.')\n"
   ]
  },
  {
   "cell_type": "markdown",
   "metadata": {},
   "source": [
    "## 2. Comparação com Ano Anterior\n",
    "\n",
    "Digamos que você está analisando as vendas de produtos de um ecommerce e quer identificar quais produtos tiveram no ano de 2020 mais vendas do que no ano de 2019, para reportar isso para a diretoria.\n",
    "\n",
    "Sua resposta pode ser um print de cada produto, qual foi a venda de 2019, a venda de 2020 e o % de crescimento de 2020 para 2019.\n",
    "\n",
    "Lembrando, para calcular o % de crescimento de um produto de um ano para o outro, podemos fazer: (vendas_produto2020/vendas_produto2019 - 1)\n",
    "\n",
    "A lógica da tupla é: (produto, vendas2019, vendas2020)"
   ]
  },
  {
   "cell_type": "code",
   "execution_count": 20,
   "metadata": {},
   "outputs": [
    {
     "name": "stdout",
     "output_type": "stream",
     "text": [
      "\u001b[32m O produto iphone, teve crescimento de 70.5% em 2020.\n",
      "\u001b[31m O produto galaxy, não teve crescimento em 2020\n",
      "\u001b[31m O produto ipad, não teve crescimento em 2020\n",
      "\u001b[32m O produto tv, teve crescimento de 94.3% em 2020.\n",
      "\u001b[32m O produto máquina de café, teve crescimento de 20.7% em 2020.\n",
      "\u001b[31m O produto kindle, não teve crescimento em 2020\n",
      "\u001b[31m O produto geladeira, não teve crescimento em 2020\n",
      "\u001b[31m O produto adega, não teve crescimento em 2020\n",
      "\u001b[32m O produto notebook dell, teve crescimento de 64.4% em 2020.\n",
      "\u001b[32m O produto notebook hp, teve crescimento de 248.8% em 2020.\n",
      "\u001b[31m O produto notebook asus, não teve crescimento em 2020\n",
      "\u001b[32m O produto microsoft surface, teve crescimento de 52.1% em 2020.\n",
      "\u001b[32m O produto webcam, teve crescimento de 24.5% em 2020.\n",
      "\u001b[32m O produto caixa de som, teve crescimento de 48.1% em 2020.\n",
      "\u001b[32m O produto microfone, teve crescimento de 96.3% em 2020.\n",
      "\u001b[32m O produto câmera canon, teve crescimento de 68.2% em 2020.\n"
     ]
    }
   ],
   "source": [
    "vendas_produtos = [('iphone', 558147, 951642), ('galaxy', 712350, 244295), ('ipad', 573823, 26964), ('tv', 405252, 787604), ('máquina de café', 718654, 867660), ('kindle', 531580, 78830), ('geladeira', 973139, 710331), ('adega', 892292, 646016), ('notebook dell', 422760, 694913), ('notebook hp', 154753, 539704), ('notebook asus', 887061, 324831), ('microsoft surface', 438508, 667179), ('webcam', 237467, 295633), ('caixa de som', 489705, 725316), ('microfone', 328311, 644622), ('câmera canon', 591120, 994303)]\n",
    "\n",
    "#seu código aqui\n",
    "for item in vendas_produtos:\n",
    "    produto, vendas2019, vendas2020 = item\n",
    "    if vendas2020 > vendas2019:\n",
    "        crescimento = ((vendas2020 - vendas2019)/vendas2019)*100\n",
    "        print(f'\\033[32m O produto {produto}, teve crescimento de {crescimento:.1f}% em 2020.')\n",
    "    else:\n",
    "        print(f'\\033[31m O produto {produto}, não teve crescimento em 2020')\n",
    "        "
   ]
  }
 ],
 "metadata": {
  "kernelspec": {
   "display_name": "Python 3 (ipykernel)",
   "language": "python",
   "name": "python3"
  },
  "language_info": {
   "codemirror_mode": {
    "name": "ipython",
    "version": 3
   },
   "file_extension": ".py",
   "mimetype": "text/x-python",
   "name": "python",
   "nbconvert_exporter": "python",
   "pygments_lexer": "ipython3",
   "version": "3.9.7"
  }
 },
 "nbformat": 4,
 "nbformat_minor": 4
}
